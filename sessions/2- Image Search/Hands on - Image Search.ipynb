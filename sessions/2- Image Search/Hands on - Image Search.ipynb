{
 "cells": [
  {
   "cell_type": "code",
   "execution_count": 1,
   "metadata": {},
   "outputs": [],
   "source": [
    "%matplotlib notebook\n",
    "\n",
    "import cv2\n",
    "import numpy as np\n",
    "import matplotlib.pyplot as plt\n",
    "import seaborn as sns"
   ]
  },
  {
   "cell_type": "code",
   "execution_count": null,
   "metadata": {},
   "outputs": [],
   "source": [
    "'''\n",
    "Use to load image by URL or file path\n",
    "'''\n",
    "def loadImage(filepath, resize_width = 0):\n",
    "    \n",
    "    if filepath.startswith(\"http\"):\n",
    "        image = imutils.url_to_image(filepath)\n",
    "    else:\n",
    "        #check if input file exists\n",
    "        if not os.path.isfile(filepath):\n",
    "            raise FileNotFoundError(\"Input file could not be read. Please check your file path.\")\n",
    "        image = cv2.imread(filepath)\n",
    "    #check if opencv was successful reading the image\n",
    "    if image is None:\n",
    "        raise ValueError(\"Input file exists but could not be read by opencv (probably not a valid image).\")\n",
    "    \n",
    "    height, width, _ = image.shape\n",
    "    if resize_width and width > resize_width:\n",
    "        scale = resize_width / width\n",
    "        newHeight = height * scale\n",
    "        image = cv2.resize(image,(resize_width, int(newHeight)))\n",
    "    return image"
   ]
  },
  {
   "cell_type": "code",
   "execution_count": null,
   "metadata": {},
   "outputs": [],
   "source": []
  }
 ],
 "metadata": {
  "kernelspec": {
   "display_name": "Python 3",
   "language": "python",
   "name": "python3"
  },
  "language_info": {
   "codemirror_mode": {
    "name": "ipython",
    "version": 3
   },
   "file_extension": ".py",
   "mimetype": "text/x-python",
   "name": "python",
   "nbconvert_exporter": "python",
   "pygments_lexer": "ipython3",
   "version": "3.8.10"
  }
 },
 "nbformat": 4,
 "nbformat_minor": 4
}
