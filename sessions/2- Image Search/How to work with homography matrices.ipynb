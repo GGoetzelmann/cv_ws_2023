{
 "cells": [
  {
   "cell_type": "code",
   "execution_count": 16,
   "metadata": {},
   "outputs": [],
   "source": [
    "import imutils\n",
    "import cv2 #to import cv2, the modul opencv-python needs to be installed\n",
    "import os\n",
    "import math\n",
    "import numpy as np"
   ]
  },
  {
   "cell_type": "code",
   "execution_count": 4,
   "metadata": {},
   "outputs": [],
   "source": [
    "'''\n",
    "Use to load image by URL or file path\n",
    "'''\n",
    "def loadImage(filepath, resize_width = 0):\n",
    "    \n",
    "    if filepath.startswith(\"http\"):\n",
    "        image = imutils.url_to_image(filepath)\n",
    "    else:\n",
    "        #check if input file exists\n",
    "        if not os.path.isfile(filepath):\n",
    "            raise FileNotFoundError(\"Input file could not be read. Please check your file path.\")\n",
    "        image = cv2.imread(filepath)\n",
    "    #check if opencv was successful reading the image\n",
    "    if image is None:\n",
    "        raise ValueError(\"Input file exists but could not be read by opencv (probably not a valid image).\")\n",
    "    \n",
    "    height, width, _ = image.shape\n",
    "    if resize_width and width > resize_width:\n",
    "        scale = resize_width / width\n",
    "        newHeight = height * scale\n",
    "        image = cv2.resize(image,(resize_width, int(newHeight)))\n",
    "    return image"
   ]
  },
  {
   "cell_type": "markdown",
   "metadata": {},
   "source": [
    "# How to work with homography matrices\n",
    "\n",
    "This notebook explains the basics of the homography mapping between a query region and a result region in the tool VISE. If you want to know, where VISE returns such a homography matrix on search, have a look in the usage guide (advanced usage) of this session first."
   ]
  },
  {
   "cell_type": "markdown",
   "metadata": {},
   "source": [
    "## Homography Matrix\n",
    "\n",
    "A homography matrix as used in VISE is defined as a matrix of the shape\n",
    "\n",
    "$$ \n",
    "M = \\begin{matrix}\n",
    "a & b & c\\\\\n",
    "d & e & f\\\\\n",
    "0 & 0 & 1\n",
    "\\end{matrix}\n",
    "$$\n",
    "\n",
    "This matrix, called a(n affine) transformation matrix, is a composition of multiple matrices, representing *rotation*, *scaling*, *shear* and *translation*."
   ]
  },
  {
   "cell_type": "markdown",
   "metadata": {},
   "source": [
    "### Rotation\n",
    "\n",
    "The query shape for a match can be rotated in the 2d plane to get the resulting match.\n",
    "\n",
    "The rotation angle is derived from the homography matrix by calculating $$rot = atan2(b,a)$$"
   ]
  },
  {
   "cell_type": "markdown",
   "metadata": {},
   "source": [
    "### Scaling\n",
    "\n",
    "The query shape can be enlarged or shrunken to get the resulting match.\n",
    "\n",
    "The twodimensional scaling factor is derived from the homography matrix by calculating $$scal_x, scal_y = \\frac{det(M)}{\\sqrt{a^2+b^2}} = \\frac{ae-bd}{\\sqrt{a^2+b^2}}$$"
   ]
  },
  {
   "cell_type": "markdown",
   "metadata": {},
   "source": [
    "### Shear\n",
    "The query shape can be sheared to get the resulting match, thus changing the corner angles of the initial rectangle but keeping all parallel lines parallel.\n",
    "\n",
    "Shear represents rotation on the third axis as perceived on the 2d plane.\n",
    "\n",
    "The shear factor $s$, which determines the displacement of a point $(x,y)$ to $(x,y+sx)$ is derived from the homography matrix by calculating\n",
    "\n",
    "$$\n",
    "s =\\left\\{\n",
    "\\begin{array}{ll}\n",
    "0 &\\text{if }det(M)=0 \\\\ \n",
    "\\frac{ad+be}{det(M)} &\\text{otherwise}.\n",
    "\\end{array} \n",
    "\\right.\n",
    "$$"
   ]
  },
  {
   "cell_type": "code",
   "execution_count": 38,
   "metadata": {},
   "outputs": [],
   "source": [
    "#for exercise, filenames have been replaced with IIIF url\n",
    "\n",
    "viseresultJson = {\n",
    "    \"PNAME\":\"winterschool-example\",\n",
    "    \"QUERY\":{\n",
    "        \"file_id\":93,\n",
    "        \"filename\":\"https://content.staatsbibliothek-berlin.de/dc/846205432-0034/full/,300/0/default.jpg\",\n",
    "        \"x\":25,\"y\":121,\"width\":152,\"height\":110\n",
    "    },\n",
    "    \"RESULT_SIZE\":31,\n",
    "    \"RESULT\":[\n",
    "        {\"file_id\":93,\"filename\":\"https://content.staatsbibliothek-berlin.de/dc/846205432-0034/full/,300/0/default.jpg\",\"score\":177.016,\"H\":[1,0,0,0,1,0,0,0,1]},\n",
    "        {\"file_id\":25,\"filename\":\"https://content.staatsbibliothek-berlin.de/dc/846205432-0244/full/,300/0/default.jpg\",\"score\":29.0008,\"H\":[1.21121,0,-19.0093,0.100599,1.23619,-130.709,0,0,1]},\n",
    "        {\"file_id\":840,\"filename\":\"some_other_image.jpg\",\"score\":5.00003,\"H\":[1.09996,0,25.0013,-0.312663,1.01493,-39.7847,0,0,1]}\n",
    "    ]\n",
    "}"
   ]
  },
  {
   "cell_type": "markdown",
   "metadata": {},
   "source": [
    "## Exercise: Assess Homomgraphy Results\n",
    "\n",
    "In the above data example, due to inconvenient circumstances, we do not know how the image in the last result looks like. However, by looking at the homography matrix, we can determine how the resulting shape would look like.\n",
    "\n",
    "Since we have applied VISE to detection of illustrations on book pages, the expected results of the homography mapping are somewhat limited. We do not expect an illustration to be freely rotated (but 90° rotation might be fine). We do not expect the aspect ratio of the result region to differ vastly from the input region (vertical / horizontal scaling). We do not expect strong shearing.\n",
    "\n",
    "\n",
    "### Option 1:\n",
    "\n",
    "Find a way do draw query rectangle and result polygon to assess the match.\n",
    "An easy option might be provided by [shapely.affinity.affine_transform](https://shapely.readthedocs.io/en/latest/manual.html#affine-transformations).\n",
    "\n",
    "### Option 2:\n",
    "\n",
    "Assess the described operations (rotation, scaling,...) individually by calculating them for the last result in the results list (either by writing functions or by calculating by hand)\n",
    "\n",
    "\n"
   ]
  },
  {
   "cell_type": "code",
   "execution_count": 103,
   "metadata": {},
   "outputs": [],
   "source": [
    "### INSERT CODE FOR EXERCISE ###"
   ]
  },
  {
   "cell_type": "code",
   "execution_count": null,
   "metadata": {},
   "outputs": [],
   "source": []
  }
 ],
 "metadata": {
  "kernelspec": {
   "display_name": "Python 3",
   "language": "python",
   "name": "python3"
  },
  "language_info": {
   "codemirror_mode": {
    "name": "ipython",
    "version": 3
   },
   "file_extension": ".py",
   "mimetype": "text/x-python",
   "name": "python",
   "nbconvert_exporter": "python",
   "pygments_lexer": "ipython3",
   "version": "3.8.3"
  }
 },
 "nbformat": 4,
 "nbformat_minor": 4
}
